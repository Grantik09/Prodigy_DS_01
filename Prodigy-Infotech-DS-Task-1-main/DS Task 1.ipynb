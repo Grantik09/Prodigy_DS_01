{
 "cells": [
  {
   "cell_type": "markdown",
   "id": "fc72f458-caeb-411f-8ef5-b3790c2b5a44",
   "metadata": {},
   "source": [
    "# Task 1"
   ]
  },
  {
   "cell_type": "markdown",
   "id": "25aac069-c11e-4082-8be0-f9a0e7d782fe",
   "metadata": {},
   "source": [
    "## Importing necessary libraries"
   ]
  },
  {
   "cell_type": "code",
   "execution_count": 14,
   "id": "89438671-7e00-4a31-b1fc-27664a21f2af",
   "metadata": {},
   "outputs": [],
   "source": [
    "import pandas as pd\n",
    "import numpy as np\n",
    "import matplotlib.pyplot as plt\n",
    "import seaborn as sns"
   ]
  },
  {
   "cell_type": "markdown",
   "id": "5eaa27c5-7b23-4f84-bf0c-b77242a62e12",
   "metadata": {},
   "source": [
    "## Reading CSV file"
   ]
  },
  {
   "cell_type": "code",
   "execution_count": 15,
   "id": "835f4c72-eb2d-4e3e-a7e9-670219ffc9e0",
   "metadata": {
    "scrolled": true
   },
   "outputs": [],
   "source": [
    "df=pd.read_csv(\"worldpopulationdata.csv\")"
   ]
  },
  {
   "cell_type": "markdown",
   "id": "393794a5-d03c-4bc5-8a1d-34df0586feff",
   "metadata": {},
   "source": [
    "## Checking top 5 rows data\n"
   ]
  },
  {
   "cell_type": "code",
   "execution_count": 16,
   "id": "90c7ec63-aa60-4811-aa0b-c3c75a867dfe",
   "metadata": {},
   "outputs": [
    {
     "data": {
      "text/html": [
       "<div>\n",
       "<style scoped>\n",
       "    .dataframe tbody tr th:only-of-type {\n",
       "        vertical-align: middle;\n",
       "    }\n",
       "\n",
       "    .dataframe tbody tr th {\n",
       "        vertical-align: top;\n",
       "    }\n",
       "\n",
       "    .dataframe thead th {\n",
       "        text-align: right;\n",
       "    }\n",
       "</style>\n",
       "<table border=\"1\" class=\"dataframe\">\n",
       "  <thead>\n",
       "    <tr style=\"text-align: right;\">\n",
       "      <th></th>\n",
       "      <th>Country Name</th>\n",
       "      <th>Country Code</th>\n",
       "      <th>Series Code</th>\n",
       "      <th>2016</th>\n",
       "      <th>2022</th>\n",
       "      <th>SP.POP.TOTL.MA.IN</th>\n",
       "      <th>SP.POP.TOTL.FE.IN</th>\n",
       "    </tr>\n",
       "  </thead>\n",
       "  <tbody>\n",
       "    <tr>\n",
       "      <th>0</th>\n",
       "      <td>China</td>\n",
       "      <td>CHN</td>\n",
       "      <td>SP.POP.TOTL</td>\n",
       "      <td>1376048943</td>\n",
       "      <td>1411778724</td>\n",
       "      <td>720000000</td>\n",
       "      <td>691778724</td>\n",
       "    </tr>\n",
       "    <tr>\n",
       "      <th>1</th>\n",
       "      <td>India</td>\n",
       "      <td>IND</td>\n",
       "      <td>SP.POP.TOTL</td>\n",
       "      <td>1324171354</td>\n",
       "      <td>1366417754</td>\n",
       "      <td>693000000</td>\n",
       "      <td>673417754</td>\n",
       "    </tr>\n",
       "    <tr>\n",
       "      <th>2</th>\n",
       "      <td>United States</td>\n",
       "      <td>USA</td>\n",
       "      <td>SP.POP.TOTL</td>\n",
       "      <td>323015995</td>\n",
       "      <td>331893745</td>\n",
       "      <td>162000000</td>\n",
       "      <td>169893745</td>\n",
       "    </tr>\n",
       "    <tr>\n",
       "      <th>3</th>\n",
       "      <td>Indonesia</td>\n",
       "      <td>IDN</td>\n",
       "      <td>SP.POP.TOTL</td>\n",
       "      <td>258705000</td>\n",
       "      <td>273753191</td>\n",
       "      <td>133000000</td>\n",
       "      <td>140753191</td>\n",
       "    </tr>\n",
       "    <tr>\n",
       "      <th>4</th>\n",
       "      <td>Pakistan</td>\n",
       "      <td>PAK</td>\n",
       "      <td>SP.POP.TOTL</td>\n",
       "      <td>201995540</td>\n",
       "      <td>233500636</td>\n",
       "      <td>117000000</td>\n",
       "      <td>116500636</td>\n",
       "    </tr>\n",
       "  </tbody>\n",
       "</table>\n",
       "</div>"
      ],
      "text/plain": [
       "    Country Name Country Code  Series Code        2016        2022  \\\n",
       "0          China          CHN  SP.POP.TOTL  1376048943  1411778724   \n",
       "1          India          IND  SP.POP.TOTL  1324171354  1366417754   \n",
       "2  United States          USA  SP.POP.TOTL   323015995   331893745   \n",
       "3      Indonesia          IDN  SP.POP.TOTL   258705000   273753191   \n",
       "4       Pakistan          PAK  SP.POP.TOTL   201995540   233500636   \n",
       "\n",
       "   SP.POP.TOTL.MA.IN  SP.POP.TOTL.FE.IN  \n",
       "0          720000000          691778724  \n",
       "1          693000000          673417754  \n",
       "2          162000000          169893745  \n",
       "3          133000000          140753191  \n",
       "4          117000000          116500636  "
      ]
     },
     "execution_count": 16,
     "metadata": {},
     "output_type": "execute_result"
    }
   ],
   "source": [
    "df.head(5)"
   ]
  },
  {
   "cell_type": "markdown",
   "id": "365a70dd-7970-4d1b-985b-1ca02c4ef898",
   "metadata": {},
   "source": [
    "## Checking data from bottom"
   ]
  },
  {
   "cell_type": "code",
   "execution_count": 17,
   "id": "c7fd9971-f37d-48a7-88c3-08db2493b022",
   "metadata": {},
   "outputs": [
    {
     "data": {
      "text/html": [
       "<div>\n",
       "<style scoped>\n",
       "    .dataframe tbody tr th:only-of-type {\n",
       "        vertical-align: middle;\n",
       "    }\n",
       "\n",
       "    .dataframe tbody tr th {\n",
       "        vertical-align: top;\n",
       "    }\n",
       "\n",
       "    .dataframe thead th {\n",
       "        text-align: right;\n",
       "    }\n",
       "</style>\n",
       "<table border=\"1\" class=\"dataframe\">\n",
       "  <thead>\n",
       "    <tr style=\"text-align: right;\">\n",
       "      <th></th>\n",
       "      <th>Country Name</th>\n",
       "      <th>Country Code</th>\n",
       "      <th>Series Code</th>\n",
       "      <th>2016</th>\n",
       "      <th>2022</th>\n",
       "      <th>SP.POP.TOTL.MA.IN</th>\n",
       "      <th>SP.POP.TOTL.FE.IN</th>\n",
       "    </tr>\n",
       "  </thead>\n",
       "  <tbody>\n",
       "    <tr>\n",
       "      <th>5</th>\n",
       "      <td>Brazil</td>\n",
       "      <td>BRA</td>\n",
       "      <td>SP.POP.TOTL</td>\n",
       "      <td>207652865</td>\n",
       "      <td>214445296</td>\n",
       "      <td>106000000</td>\n",
       "      <td>108445296</td>\n",
       "    </tr>\n",
       "    <tr>\n",
       "      <th>6</th>\n",
       "      <td>Nigeria</td>\n",
       "      <td>NGA</td>\n",
       "      <td>SP.POP.TOTL</td>\n",
       "      <td>186987563</td>\n",
       "      <td>223804632</td>\n",
       "      <td>114000000</td>\n",
       "      <td>109804632</td>\n",
       "    </tr>\n",
       "    <tr>\n",
       "      <th>7</th>\n",
       "      <td>Bangladesh</td>\n",
       "      <td>BGD</td>\n",
       "      <td>SP.POP.TOTL</td>\n",
       "      <td>162951560</td>\n",
       "      <td>169356251</td>\n",
       "      <td>81000000</td>\n",
       "      <td>88356251</td>\n",
       "    </tr>\n",
       "    <tr>\n",
       "      <th>8</th>\n",
       "      <td>Russia</td>\n",
       "      <td>RUS</td>\n",
       "      <td>SP.POP.TOTL</td>\n",
       "      <td>144342396</td>\n",
       "      <td>143493000</td>\n",
       "      <td>68000000</td>\n",
       "      <td>75593000</td>\n",
       "    </tr>\n",
       "    <tr>\n",
       "      <th>9</th>\n",
       "      <td>Mexico</td>\n",
       "      <td>MEX</td>\n",
       "      <td>SP.POP.TOTL</td>\n",
       "      <td>122273473</td>\n",
       "      <td>129166028</td>\n",
       "      <td>65000000</td>\n",
       "      <td>64166028</td>\n",
       "    </tr>\n",
       "  </tbody>\n",
       "</table>\n",
       "</div>"
      ],
      "text/plain": [
       "  Country Name Country Code  Series Code       2016       2022  \\\n",
       "5       Brazil          BRA  SP.POP.TOTL  207652865  214445296   \n",
       "6      Nigeria          NGA  SP.POP.TOTL  186987563  223804632   \n",
       "7   Bangladesh          BGD  SP.POP.TOTL  162951560  169356251   \n",
       "8       Russia          RUS  SP.POP.TOTL  144342396  143493000   \n",
       "9       Mexico          MEX  SP.POP.TOTL  122273473  129166028   \n",
       "\n",
       "   SP.POP.TOTL.MA.IN  SP.POP.TOTL.FE.IN  \n",
       "5          106000000          108445296  \n",
       "6          114000000          109804632  \n",
       "7           81000000           88356251  \n",
       "8           68000000           75593000  \n",
       "9           65000000           64166028  "
      ]
     },
     "execution_count": 17,
     "metadata": {},
     "output_type": "execute_result"
    }
   ],
   "source": [
    "df.tail(5)"
   ]
  },
  {
   "cell_type": "markdown",
   "id": "d98dee73-dad9-4e3d-a4ea-c966ea68b26c",
   "metadata": {},
   "source": [
    "## Checking the columns of the dataset"
   ]
  },
  {
   "cell_type": "code",
   "execution_count": 18,
   "id": "540de57e-1274-40b0-9c20-d20e20b04fb5",
   "metadata": {},
   "outputs": [
    {
     "data": {
      "text/plain": [
       "Index(['Country Name', 'Country Code', 'Series Code', '2016', '2022',\n",
       "       'SP.POP.TOTL.MA.IN', 'SP.POP.TOTL.FE.IN'],\n",
       "      dtype='object')"
      ]
     },
     "execution_count": 18,
     "metadata": {},
     "output_type": "execute_result"
    }
   ],
   "source": [
    "df.columns"
   ]
  },
  {
   "cell_type": "markdown",
   "id": "47cf7183-a7d5-4b5c-8f27-5d0d5daac481",
   "metadata": {},
   "source": [
    "## Some information about the dataset"
   ]
  },
  {
   "cell_type": "code",
   "execution_count": 19,
   "id": "d992a59d-b4b7-44a8-ba08-067e5570e70b",
   "metadata": {},
   "outputs": [
    {
     "name": "stdout",
     "output_type": "stream",
     "text": [
      "<class 'pandas.core.frame.DataFrame'>\n",
      "RangeIndex: 10 entries, 0 to 9\n",
      "Data columns (total 7 columns):\n",
      " #   Column             Non-Null Count  Dtype \n",
      "---  ------             --------------  ----- \n",
      " 0   Country Name       10 non-null     object\n",
      " 1   Country Code       10 non-null     object\n",
      " 2   Series Code        10 non-null     object\n",
      " 3   2016               10 non-null     int64 \n",
      " 4   2022               10 non-null     int64 \n",
      " 5   SP.POP.TOTL.MA.IN  10 non-null     int64 \n",
      " 6   SP.POP.TOTL.FE.IN  10 non-null     int64 \n",
      "dtypes: int64(4), object(3)\n",
      "memory usage: 692.0+ bytes\n"
     ]
    }
   ],
   "source": [
    "df.info()"
   ]
  },
  {
   "cell_type": "code",
   "execution_count": 20,
   "id": "c0c93098-7354-4d3e-9602-e9c29c5d04df",
   "metadata": {},
   "outputs": [
    {
     "data": {
      "text/html": [
       "<div>\n",
       "<style scoped>\n",
       "    .dataframe tbody tr th:only-of-type {\n",
       "        vertical-align: middle;\n",
       "    }\n",
       "\n",
       "    .dataframe tbody tr th {\n",
       "        vertical-align: top;\n",
       "    }\n",
       "\n",
       "    .dataframe thead th {\n",
       "        text-align: right;\n",
       "    }\n",
       "</style>\n",
       "<table border=\"1\" class=\"dataframe\">\n",
       "  <thead>\n",
       "    <tr style=\"text-align: right;\">\n",
       "      <th></th>\n",
       "      <th>2016</th>\n",
       "      <th>2022</th>\n",
       "      <th>SP.POP.TOTL.MA.IN</th>\n",
       "      <th>SP.POP.TOTL.FE.IN</th>\n",
       "    </tr>\n",
       "  </thead>\n",
       "  <tbody>\n",
       "    <tr>\n",
       "      <th>count</th>\n",
       "      <td>1.000000e+01</td>\n",
       "      <td>1.000000e+01</td>\n",
       "      <td>1.000000e+01</td>\n",
       "      <td>1.000000e+01</td>\n",
       "    </tr>\n",
       "    <tr>\n",
       "      <th>mean</th>\n",
       "      <td>4.308145e+08</td>\n",
       "      <td>4.497609e+08</td>\n",
       "      <td>2.259000e+08</td>\n",
       "      <td>2.238709e+08</td>\n",
       "    </tr>\n",
       "    <tr>\n",
       "      <th>std</th>\n",
       "      <td>4.880143e+08</td>\n",
       "      <td>4.987780e+08</td>\n",
       "      <td>2.550828e+08</td>\n",
       "      <td>2.437145e+08</td>\n",
       "    </tr>\n",
       "    <tr>\n",
       "      <th>min</th>\n",
       "      <td>1.222735e+08</td>\n",
       "      <td>1.291660e+08</td>\n",
       "      <td>6.500000e+07</td>\n",
       "      <td>6.416603e+07</td>\n",
       "    </tr>\n",
       "    <tr>\n",
       "      <th>25%</th>\n",
       "      <td>1.689606e+08</td>\n",
       "      <td>1.806285e+08</td>\n",
       "      <td>8.725000e+07</td>\n",
       "      <td>9.337851e+07</td>\n",
       "    </tr>\n",
       "    <tr>\n",
       "      <th>50%</th>\n",
       "      <td>2.048242e+08</td>\n",
       "      <td>2.286526e+08</td>\n",
       "      <td>1.155000e+08</td>\n",
       "      <td>1.131526e+08</td>\n",
       "    </tr>\n",
       "    <tr>\n",
       "      <th>75%</th>\n",
       "      <td>3.069382e+08</td>\n",
       "      <td>3.173586e+08</td>\n",
       "      <td>1.547500e+08</td>\n",
       "      <td>1.626086e+08</td>\n",
       "    </tr>\n",
       "    <tr>\n",
       "      <th>max</th>\n",
       "      <td>1.376049e+09</td>\n",
       "      <td>1.411779e+09</td>\n",
       "      <td>7.200000e+08</td>\n",
       "      <td>6.917787e+08</td>\n",
       "    </tr>\n",
       "  </tbody>\n",
       "</table>\n",
       "</div>"
      ],
      "text/plain": [
       "               2016          2022  SP.POP.TOTL.MA.IN  SP.POP.TOTL.FE.IN\n",
       "count  1.000000e+01  1.000000e+01       1.000000e+01       1.000000e+01\n",
       "mean   4.308145e+08  4.497609e+08       2.259000e+08       2.238709e+08\n",
       "std    4.880143e+08  4.987780e+08       2.550828e+08       2.437145e+08\n",
       "min    1.222735e+08  1.291660e+08       6.500000e+07       6.416603e+07\n",
       "25%    1.689606e+08  1.806285e+08       8.725000e+07       9.337851e+07\n",
       "50%    2.048242e+08  2.286526e+08       1.155000e+08       1.131526e+08\n",
       "75%    3.069382e+08  3.173586e+08       1.547500e+08       1.626086e+08\n",
       "max    1.376049e+09  1.411779e+09       7.200000e+08       6.917787e+08"
      ]
     },
     "execution_count": 20,
     "metadata": {},
     "output_type": "execute_result"
    }
   ],
   "source": [
    "df.describe()"
   ]
  },
  {
   "cell_type": "markdown",
   "id": "cc5b58fc-fe6f-47ef-a622-ec9bd3140e0a",
   "metadata": {},
   "source": [
    "## Checking for duplicates values"
   ]
  },
  {
   "cell_type": "code",
   "execution_count": 21,
   "id": "9b6266b4-43d1-45a8-baaf-4a55ee11e02c",
   "metadata": {},
   "outputs": [
    {
     "data": {
      "text/plain": [
       "0"
      ]
     },
     "execution_count": 21,
     "metadata": {},
     "output_type": "execute_result"
    }
   ],
   "source": [
    "df.duplicated().sum()"
   ]
  },
  {
   "cell_type": "markdown",
   "id": "59825045-c2fc-4681-b3f8-7274943d5993",
   "metadata": {},
   "source": [
    "## Checking for missing values"
   ]
  },
  {
   "cell_type": "code",
   "execution_count": 22,
   "id": "c459c70c-fae1-4eab-871b-0977eda70aa3",
   "metadata": {},
   "outputs": [
    {
     "data": {
      "text/plain": [
       "Country Name         0\n",
       "Country Code         0\n",
       "Series Code          0\n",
       "2016                 0\n",
       "2022                 0\n",
       "SP.POP.TOTL.MA.IN    0\n",
       "SP.POP.TOTL.FE.IN    0\n",
       "dtype: int64"
      ]
     },
     "execution_count": 22,
     "metadata": {},
     "output_type": "execute_result"
    }
   ],
   "source": [
    "df.isna().sum()"
   ]
  },
  {
   "cell_type": "markdown",
   "id": "bb91e6ce-e945-4849-b572-7a665b6f1c01",
   "metadata": {},
   "source": [
    "## Checking unique values for columns"
   ]
  },
  {
   "cell_type": "code",
   "execution_count": 23,
   "id": "fbd485c0-8fd3-4295-ad7c-8aed3a7558f7",
   "metadata": {},
   "outputs": [
    {
     "name": "stdout",
     "output_type": "stream",
     "text": [
      "['China' 'India' 'United States' 'Indonesia' 'Pakistan' 'Brazil' 'Nigeria'\n",
      " 'Bangladesh' 'Russia' 'Mexico']\n",
      "\n",
      " Total no of unique countries: 10\n"
     ]
    }
   ],
   "source": [
    "print(df['Country Name'].unique())\n",
    "print(\"\\n Total no of unique countries:\",df['Country Name'].nunique())"
   ]
  },
  {
   "cell_type": "code",
   "execution_count": 24,
   "id": "c16a26d4-0c82-4ce8-abe6-43175c41295c",
   "metadata": {},
   "outputs": [
    {
     "name": "stdout",
     "output_type": "stream",
     "text": [
      "['CHN' 'IND' 'USA' 'IDN' 'PAK' 'BRA' 'NGA' 'BGD' 'RUS' 'MEX']\n",
      "\n",
      " Total no of unique country code: 10\n"
     ]
    }
   ],
   "source": [
    "print(df['Country Code'].unique())\n",
    "print(\"\\n Total no of unique country code:\",df['Country Code'].nunique())"
   ]
  },
  {
   "cell_type": "markdown",
   "id": "24e5cddb-607e-4ed3-b559-ee93d0cb85d3",
   "metadata": {},
   "source": [
    "## Dropping unnecessary columns"
   ]
  },
  {
   "cell_type": "code",
   "execution_count": 27,
   "id": "ecd6b30c-a079-4baf-9cae-f67c64ce350e",
   "metadata": {},
   "outputs": [],
   "source": [
    "# Drop only if the columns exist\n",
    "df = df.drop(columns=[col for col in ['Series Name', 'Country Name'] if col in df.columns])\n"
   ]
  },
  {
   "cell_type": "markdown",
   "id": "60b74ed3-f38a-4a79-b5b4-d852cbbd5596",
   "metadata": {},
   "source": [
    "## Extarction of top 10 countries with respect to total population"
   ]
  },
  {
   "cell_type": "code",
   "execution_count": 28,
   "id": "cec5f782-f1c2-40c5-8c3b-53428669827b",
   "metadata": {},
   "outputs": [
    {
     "name": "stdout",
     "output_type": "stream",
     "text": [
      "Top ten countries of total population\n",
      "\n",
      "  Country Code\n",
      "0          CHN\n",
      "1          IND\n",
      "2          USA\n",
      "3          IDN\n",
      "4          PAK\n",
      "6          NGA\n",
      "5          BRA\n",
      "7          BGD\n",
      "8          RUS\n",
      "9          MEX\n"
     ]
    }
   ],
   "source": [
    "# Filter data for total population\n",
    "total_population_data = df[df['Series Code'] == 'SP.POP.TOTL']\n",
    "\n",
    "# Sort data based on the total population for 2022\n",
    "total_population_sorted = total_population_data.sort_values(by=\"2022\", ascending=False)\n",
    "\n",
    "# Get the top ten countries with the highest total population for 2022\n",
    "total_top_ten_countries = total_population_sorted.head(10)\n",
    "print(\"Top ten countries of total population\\n\")\n",
    "print(total_top_ten_countries[['Country Code']])"
   ]
  },
  {
   "cell_type": "markdown",
   "id": "4629dc34-b032-4851-9ba1-ed944a3524f4",
   "metadata": {},
   "source": [
    "# Bar Plot\n"
   ]
  },
  {
   "cell_type": "markdown",
   "id": "3b73cea9-a3dd-4815-ad40-3aeb26b367c8",
   "metadata": {},
   "source": [
    "## Top ten countries of total population in year 2022 and 2016"
   ]
  },
  {
   "cell_type": "code",
   "execution_count": 45,
   "id": "86fbd4db-fba4-4814-a606-cf8f614558aa",
   "metadata": {},
   "outputs": [
    {
     "name": "stderr",
     "output_type": "stream",
     "text": [
      "C:\\Users\\GRANTIK THINGALAYA\\AppData\\Local\\Temp\\ipykernel_18980\\1671410998.py:4: FutureWarning: \n",
      "\n",
      "Passing `palette` without assigning `hue` is deprecated and will be removed in v0.14.0. Assign the `y` variable to `hue` and set `legend=False` for the same effect.\n",
      "\n",
      "  sns.barplot(x=\"2022\", y=\"Country Code\", data=total_top_ten_countries, palette=\"coolwarm\")\n"
     ]
    },
    {
     "data": {
      "image/png": "[encoded data removed]",
      "text/plain": [
       "<Figure size 1500x600 with 1 Axes>"
      ]
     },
     "metadata": {},
     "output_type": "display_data"
    },
    {
     "name": "stderr",
     "output_type": "stream",
     "text": [
      "C:\\Users\\GRANTIK THINGALAYA\\AppData\\Local\\Temp\\ipykernel_18980\\1671410998.py:13: FutureWarning: \n",
      "\n",
      "Passing `palette` without assigning `hue` is deprecated and will be removed in v0.14.0. Assign the `y` variable to `hue` and set `legend=False` for the same effect.\n",
      "\n",
      "  sns.barplot(x=\"2016\", y=\"Country Code\", data=total_top_ten_countries, palette=\"coolwarm\")\n"
     ]
    },
    {
     "data": {
      "image/png": "[encoded data removed]",
      "text/plain": [
       "<Figure size 1500x600 with 1 Axes>"
      ]
     },
     "metadata": {},
     "output_type": "display_data"
    }
   ],
   "source": [
    "# Create the bar plot\n",
    "plt.figure(figsize=(15, 6))\n",
    "plt.subplot(2,2,1)\n",
    "sns.barplot(x=\"2022\", y=\"Country Code\", data=total_top_ten_countries, palette=\"coolwarm\")\n",
    "plt.title(\"Top Ten Countries of Total Population (2022)\",fontsize=10)\n",
    "plt.xlabel(\"Total Population\",fontsize=10)\n",
    "plt.ylabel(\"Country\",fontsize=10)\n",
    "plt.show()\n",
    "\n",
    "# Create the bar plot\n",
    "plt.figure(figsize=(15, 6))\n",
    "plt.subplot(2,2,2)\n",
    "sns.barplot(x=\"2016\", y=\"Country Code\", data=total_top_ten_countries, palette=\"coolwarm\")\n",
    "plt.title(\"Top Ten Countries of Total Population (2016)\",fontsize=10)\n",
    "plt.xlabel(\"Total Population\",fontsize=10)\n",
    "plt.ylabel(\"Country\",fontsize=10)\n",
    "plt.show()"
   ]
  },
  {
   "cell_type": "markdown",
   "id": "0c255985-9f1d-4c22-bc7b-b90a53e951c0",
   "metadata": {},
   "source": [
    "## Extraction of bottom 10 countries with respect to total popultaion"
   ]
  },
  {
   "cell_type": "code",
   "execution_count": 30,
   "id": "86714e46-073b-4a48-ac89-84362fe3133d",
   "metadata": {},
   "outputs": [
    {
     "name": "stdout",
     "output_type": "stream",
     "text": [
      "Bottom ten countries of total population\n",
      "\n",
      "  Country Code\n",
      "9          MEX\n",
      "8          RUS\n",
      "7          BGD\n",
      "5          BRA\n",
      "6          NGA\n",
      "4          PAK\n",
      "3          IDN\n",
      "2          USA\n",
      "1          IND\n",
      "0          CHN\n"
     ]
    }
   ],
   "source": [
    "# Sort data based on the total population for 2022\n",
    "total_population_sorted1 = total_population_data.sort_values(by=\"2022\", ascending=True)\n",
    "\n",
    "# Get the top ten countries with the highest total population for 2022\n",
    "total_bottom_ten_countries = total_population_sorted1.head(10)\n",
    "print(\"Bottom ten countries of total population\\n\")\n",
    "print(total_bottom_ten_countries[['Country Code']])"
   ]
  },
  {
   "cell_type": "markdown",
   "id": "18eeb3c2-7fe0-43df-a16f-70df775510c1",
   "metadata": {},
   "source": [
    "## Bottom ten countries of total population in year 2022 and 2016"
   ]
  },
  {
   "cell_type": "code",
   "execution_count": 31,
   "id": "5f9b2fdc-db0b-403b-801d-a37308f7e5b8",
   "metadata": {},
   "outputs": [
    {
     "name": "stderr",
     "output_type": "stream",
     "text": [
      "C:\\Users\\GRANTIK THINGALAYA\\AppData\\Local\\Temp\\ipykernel_18980\\1344369931.py:4: FutureWarning: \n",
      "\n",
      "Passing `palette` without assigning `hue` is deprecated and will be removed in v0.14.0. Assign the `y` variable to `hue` and set `legend=False` for the same effect.\n",
      "\n",
      "  sns.barplot(x=\"2022\", y=\"Country Code\", data=total_bottom_ten_countries, palette=\"coolwarm\")\n"
     ]
    },
    {
     "data": {
      "image/png": "[encoded data removed]",
      "text/plain": [
       "<Figure size 1500x600 with 1 Axes>"
      ]
     },
     "metadata": {},
     "output_type": "display_data"
    },
    {
     "name": "stderr",
     "output_type": "stream",
     "text": [
      "C:\\Users\\GRANTIK THINGALAYA\\AppData\\Local\\Temp\\ipykernel_18980\\1344369931.py:13: FutureWarning: \n",
      "\n",
      "Passing `palette` without assigning `hue` is deprecated and will be removed in v0.14.0. Assign the `y` variable to `hue` and set `legend=False` for the same effect.\n",
      "\n",
      "  sns.barplot(x=\"2016\", y=\"Country Code\", data=total_bottom_ten_countries, palette=\"coolwarm\")\n"
     ]
    },
    {
     "data": {
      "image/png": "[encoded data removed]",
      "text/plain": [
       "<Figure size 1500x600 with 1 Axes>"
      ]
     },
     "metadata": {},
     "output_type": "display_data"
    }
   ],
   "source": [
    "# Create the bar plot\n",
    "plt.figure(figsize=(15, 6))\n",
    "plt.subplot(2,2,1)\n",
    "sns.barplot(x=\"2022\", y=\"Country Code\", data=total_bottom_ten_countries, palette=\"coolwarm\")\n",
    "plt.title(\"Bottom Ten Countries of Total Population (2022)\",fontsize=10)\n",
    "plt.xlabel(\"Total Population\",fontsize=10)\n",
    "plt.ylabel(\"Country\",fontsize=10)\n",
    "plt.show()\n",
    "\n",
    "# Create the bar plot\n",
    "plt.figure(figsize=(15, 6))\n",
    "plt.subplot(2,2,2)\n",
    "sns.barplot(x=\"2016\", y=\"Country Code\", data=total_bottom_ten_countries, palette=\"coolwarm\")\n",
    "plt.title(\"Bottom Ten Countries of Total Population (2016)\",fontsize=10)\n",
    "plt.xlabel(\"Total Population\",fontsize=10)\n",
    "plt.ylabel(\"Country\",fontsize=10)\n",
    "plt.show()"
   ]
  },
  {
   "cell_type": "markdown",
   "id": "e4916ab0-8f1e-4b13-9ef5-006f541c2cd5",
   "metadata": {},
   "source": [
    "## Extarction of top 10 countries with highest male population"
   ]
  },
  {
   "cell_type": "code",
   "execution_count": 32,
   "id": "2900a3ec-e182-4e24-aaff-4d24345bcf21",
   "metadata": {},
   "outputs": [
    {
     "name": "stdout",
     "output_type": "stream",
     "text": [
      "Top ten countries of male population\n",
      "Empty DataFrame\n",
      "Columns: [Country Code]\n",
      "Index: []\n"
     ]
    }
   ],
   "source": [
    "#filter data for male population\n",
    "male_population_data = df[df['Series Code']=='SP.POP.TOTL.MA.IN']\n",
    "\n",
    "#sort data based on the male population for 2022\n",
    "male_population_sorted =male_population_data.sort_values(by=\"2022\",ascending=False)\n",
    "\n",
    "#Get the top 10 countries with the highest male population for 2022\n",
    "male_top_ten_countries = male_population_sorted .head(10)\n",
    "print(\"Top ten countries of male population\")\n",
    "print(male_top_ten_countries[['Country Code']])"
   ]
  },
  {
   "cell_type": "code",
   "execution_count": 33,
   "id": "5d183eab-f1bd-4017-95b4-690e17604d35",
   "metadata": {},
   "outputs": [
    {
     "name": "stdout",
     "output_type": "stream",
     "text": [
      "Top ten countries of female population\n",
      "Empty DataFrame\n",
      "Columns: [Country Code]\n",
      "Index: []\n"
     ]
    }
   ],
   "source": [
    "#filter data for male population\n",
    "female_population_data = df[df['Series Code']=='SP.POP.TOTL.FE.IN']\n",
    "\n",
    "#sort data based on the male population for 2022\n",
    "female_population_sorted =female_population_data.sort_values(by=\"2022\",ascending=False)\n",
    "\n",
    "#Get the top 10 countries with the highest male population for 2022\n",
    "female_top_ten_countries = female_population_sorted .head(10)\n",
    "print(\"Top ten countries of female population\")\n",
    "print(female_top_ten_countries[['Country Code']])"
   ]
  },
  {
   "cell_type": "markdown",
   "id": "bd25460e-48b5-4e80-9b6a-cf8b6d7bc8dd",
   "metadata": {},
   "source": [
    "## Top ten countries with highest male and female population in 2022"
   ]
  },
  {
   "cell_type": "code",
   "execution_count": 34,
   "id": "aad94883-ca24-4934-990a-57d2e014053b",
   "metadata": {},
   "outputs": [
    {
     "data": {
      "image/png": "[encoded data removed]",
      "text/plain": [
       "<Figure size 1500x600 with 1 Axes>"
      ]
     },
     "metadata": {},
     "output_type": "display_data"
    },
    {
     "data": {
      "image/png": "[encoded data removed]",
      "text/plain": [
       "<Figure size 1500x600 with 1 Axes>"
      ]
     },
     "metadata": {},
     "output_type": "display_data"
    }
   ],
   "source": [
    "# Create the bar plot\n",
    "plt.figure(figsize=(15, 6))\n",
    "plt.subplot(2,2,1)\n",
    "sns.barplot(x=\"2022\", y=\"Country Code\", data=male_top_ten_countries, palette=\"viridis\")\n",
    "plt.title(\"Top ten conuntries of male population(2022)\",fontsize=10)\n",
    "plt.xlabel(\"Male Population\",fontsize=10)\n",
    "plt.ylabel(\"Country\",fontsize=10)\n",
    "plt.show()\n",
    "\n",
    "# Create the bar plot\n",
    "plt.figure(figsize=(15, 6))\n",
    "plt.subplot(2,2,2)\n",
    "sns.barplot(x=\"2016\", y=\"Country Code\", data=female_top_ten_countries, palette=\"viridis\")\n",
    "plt.title(\"Top ten conuntries of female population(2022)\",fontsize=10)\n",
    "plt.xlabel(\"Female Population\",fontsize=10)\n",
    "plt.ylabel(\"Country\",fontsize=10)\n",
    "plt.show()"
   ]
  },
  {
   "cell_type": "markdown",
   "id": "4417dc1a-c9da-4254-be93-b83ee16e71f2",
   "metadata": {},
   "source": [
    "# Stacked Bar Plot"
   ]
  },
  {
   "cell_type": "markdown",
   "id": "2dee60a7-a485-4bff-96b5-295a93371f47",
   "metadata": {},
   "source": [
    "## Top 10 countries with male and female population"
   ]
  },
  {
   "cell_type": "code",
   "execution_count": 35,
   "id": "91a5f88a-f318-4205-927a-51341ed609f2",
   "metadata": {},
   "outputs": [],
   "source": [
    "#merge male and female population data on 'Country Code'\n",
    "merge_data=pd.merge(male_population_data,female_population_data,on=\"Country Code\",suffixes=(\"_male\",\"_female\"))"
   ]
  },
  {
   "cell_type": "code",
   "execution_count": 36,
   "id": "b55ce3ec-f2bf-4960-8730-3d0b7834d399",
   "metadata": {},
   "outputs": [],
   "source": [
    "#merged data\n",
    "#calculate the total population for each country (male + female)\n",
    "merge_data[\"Total population\"] = merge_data[\"2022_male\"] + merge_data [\"2022_female\"]"
   ]
  },
  {
   "cell_type": "code",
   "execution_count": 37,
   "id": "46beddaa-b421-48fc-8dfc-417dd709aab2",
   "metadata": {},
   "outputs": [
    {
     "data": {
      "text/html": [
       "<div>\n",
       "<style scoped>\n",
       "    .dataframe tbody tr th:only-of-type {\n",
       "        vertical-align: middle;\n",
       "    }\n",
       "\n",
       "    .dataframe tbody tr th {\n",
       "        vertical-align: top;\n",
       "    }\n",
       "\n",
       "    .dataframe thead th {\n",
       "        text-align: right;\n",
       "    }\n",
       "</style>\n",
       "<table border=\"1\" class=\"dataframe\">\n",
       "  <thead>\n",
       "    <tr style=\"text-align: right;\">\n",
       "      <th></th>\n",
       "      <th>Country Code</th>\n",
       "      <th>Series Code_male</th>\n",
       "      <th>2016_male</th>\n",
       "      <th>2022_male</th>\n",
       "      <th>SP.POP.TOTL.MA.IN_male</th>\n",
       "      <th>SP.POP.TOTL.FE.IN_male</th>\n",
       "      <th>Series Code_female</th>\n",
       "      <th>2016_female</th>\n",
       "      <th>2022_female</th>\n",
       "      <th>SP.POP.TOTL.MA.IN_female</th>\n",
       "      <th>SP.POP.TOTL.FE.IN_female</th>\n",
       "      <th>Total population</th>\n",
       "    </tr>\n",
       "  </thead>\n",
       "  <tbody>\n",
       "  </tbody>\n",
       "</table>\n",
       "</div>"
      ],
      "text/plain": [
       "Empty DataFrame\n",
       "Columns: [Country Code, Series Code_male, 2016_male, 2022_male, SP.POP.TOTL.MA.IN_male, SP.POP.TOTL.FE.IN_male, Series Code_female, 2016_female, 2022_female, SP.POP.TOTL.MA.IN_female, SP.POP.TOTL.FE.IN_female, Total population]\n",
       "Index: []"
      ]
     },
     "execution_count": 37,
     "metadata": {},
     "output_type": "execute_result"
    }
   ],
   "source": [
    "merge_data.head()"
   ]
  },
  {
   "cell_type": "code",
   "execution_count": 38,
   "id": "493efee3-dcbb-4181-a60f-1bacb87c1e3c",
   "metadata": {},
   "outputs": [],
   "source": [
    "#sort data based on total population in descending order\n",
    "sorted_data = merge_data.sort_values(by=\"Total population\", ascending=False)\n"
   ]
  },
  {
   "cell_type": "markdown",
   "id": "d74dc131-bf69-48d4-bcc9-0cc32e2ae059",
   "metadata": {},
   "source": [
    "## Select the top 10 countries with the highest total population"
   ]
  },
  {
   "cell_type": "code",
   "execution_count": 39,
   "id": "61c74bd8-caf9-4e02-a33c-6d324e86742f",
   "metadata": {},
   "outputs": [],
   "source": [
    "top_10_countries = sorted_data.head(10)"
   ]
  },
  {
   "cell_type": "code",
   "execution_count": 43,
   "id": "881c2ba8-0763-4565-a1b6-50ea2c0d2651",
   "metadata": {},
   "outputs": [
    {
     "name": "stderr",
     "output_type": "stream",
     "text": [
      "C:\\Users\\GRANTIK THINGALAYA\\AppData\\Local\\Temp\\ipykernel_18980\\3097418257.py:11: UserWarning: No artists with labels found to put in legend.  Note that artists whose label start with an underscore are ignored when legend() is called with no argument.\n",
      "  plt.legend()  # Now this will work because we have labels for male and female populations\n"
     ]
    },
    {
     "data": {
      "image/png": "[encoded data removed]",
      "text/plain": [
       "<Figure size 1200x600 with 1 Axes>"
      ]
     },
     "metadata": {},
     "output_type": "display_data"
    }
   ],
   "source": [
    "# Stacked bar plot\n",
    "plt.figure(figsize=(12,6))\n",
    "# Male population with a label for the legend\n",
    "sns.barplot(x=\"Country Code\", y=\"2022_female\", data=top_10_countries, color=\"red\", label=\"Female Population\")\n",
    "# Female population with a label for the legend\n",
    "sns.barplot(x=\"Country Code\", y=\"2022_male\", data=top_10_countries, bottom=top_10_countries[\"2022_female\"], color=\"green\", label=\"Male Population\")\n",
    "\n",
    "# Adding labels and legend\n",
    "plt.xlabel(\"Country\")\n",
    "plt.ylabel(\"Population\")\n",
    "plt.legend()  # Now this will work because we have labels for male and female populations\n",
    "plt.xticks(rotation=45, ha=\"right\")\n",
    "plt.show()\n"
   ]
  },
  {
   "cell_type": "markdown",
   "id": "5ae2a1b5-0d59-4a4b-b6db-fec125b15235",
   "metadata": {},
   "source": [
    "## Bottom 10 countries with male and female population(2022)"
   ]
  },
  {
   "cell_type": "code",
   "execution_count": 41,
   "id": "697dce0e-e515-43d9-a541-256c86008e8b",
   "metadata": {},
   "outputs": [],
   "source": [
    "#select the top 10 countries with the highest total population\n",
    "bottom_10_countries = sorted_data.tail(10)"
   ]
  },
  {
   "cell_type": "code",
   "execution_count": 42,
   "id": "0090910e-dc47-4636-9d2a-63ee45b9d480",
   "metadata": {},
   "outputs": [
    {
     "name": "stderr",
     "output_type": "stream",
     "text": [
      "C:\\Users\\GRANTIK THINGALAYA\\AppData\\Local\\Temp\\ipykernel_18980\\2371777525.py:7: UserWarning: No artists with labels found to put in legend.  Note that artists whose label start with an underscore are ignored when legend() is called with no argument.\n",
      "  plt.legend()\n"
     ]
    },
    {
     "data": {
      "image/png": "[encoded data removed]",
      "text/plain": [
       "<Figure size 1200x600 with 1 Axes>"
      ]
     },
     "metadata": {},
     "output_type": "display_data"
    }
   ],
   "source": [
    "# Create the stacked bar plot\n",
    "plt.figure(figsize=(12, 6))\n",
    "sns.barplot(x=\"Country Code\", y=\"2022_female\", data=bottom_10_countries, color=\"red\", label=\"Female Population\")\n",
    "sns.barplot(x=\"Country Code\", y=\"2022_male\", data=bottom_10_countries, bottom=bottom_10_countries[\"2022_female\"], color=\"green\", label=\"Male Population\")\n",
    "plt.xlabel(\"Country\")\n",
    "plt.ylabel(\"Population\")\n",
    "plt.legend()\n",
    "plt.xticks(rotation=45, ha=\"right\")\n",
    "plt.show()"
   ]
  },
  {
   "cell_type": "code",
   "execution_count": null,
   "id": "4a3f44d8-d756-4db6-b474-e640caf45788",
   "metadata": {},
   "outputs": [],
   "source": []
  }
 ],
 "metadata": {
  "kernelspec": {
   "display_name": "Python 3 (ipykernel)",
   "language": "python",
   "name": "python3"
  },
  "language_info": {
   "codemirror_mode": {
    "name": "ipython",
    "version": 3
   },
   "file_extension": ".py",
   "mimetype": "text/x-python",
   "name": "python",
   "nbconvert_exporter": "python",
   "pygments_lexer": "ipython3",
   "version": "3.12.4"
  },
  "widgets": {
   "application/vnd.jupyter.widget-state+json": {
    "state": {},
    "version_major": 2,
    "version_minor": 0
   }
  }
 },
 "nbformat": 4,
 "nbformat_minor": 5
}
